{
 "cells": [
  {
   "cell_type": "code",
   "execution_count": 121,
   "metadata": {},
   "outputs": [],
   "source": [
    "import numpy as np\n",
    "import pandas as pd\n"
   ]
  },
  {
   "cell_type": "code",
   "execution_count": 122,
   "metadata": {},
   "outputs": [
    {
     "name": "stdout",
     "output_type": "stream",
     "text": [
      "10\n",
      "10\n"
     ]
    }
   ],
   "source": [
    "x = np.asarray([0.,1.,2.,3.,4.,5.,6.,7.,8.,9.])\n",
    "y = np.asarray([1,1,1,-1,-1,-1,1,1,1,-1])\n",
    "print(len(x))\n",
    "print(len(y))"
   ]
  },
  {
   "cell_type": "code",
   "execution_count": 123,
   "metadata": {},
   "outputs": [],
   "source": [
    "# 弱分类器由 x<v,x>v 来产生，训练一系列弱分类器组成最终的强分类器，使得分类的误差降低。"
   ]
  },
  {
   "cell_type": "code",
   "execution_count": 124,
   "metadata": {},
   "outputs": [
    {
     "name": "stdout",
     "output_type": "stream",
     "text": [
      "[0. 1. 2. 3. 4. 5. 6. 7. 8. 9.]\n",
      "[0.1 0.1 0.1 0.1 0.1 0.1 0.1 0.1 0.1 0.1]\n"
     ]
    }
   ],
   "source": [
    "# step 1: 初始化数据的权值分布。\n",
    "w = np.empty_like(x)\n",
    "print(w)\n",
    "\n",
    "for i in range(len(x)):\n",
    "    w[i] = 1./float(len(x))\n",
    "print(w)\n",
    "        "
   ]
  },
  {
   "cell_type": "code",
   "execution_count": 125,
   "metadata": {},
   "outputs": [
    {
     "name": "stdout",
     "output_type": "stream",
     "text": [
      "2.5 0.30000000000000004\n"
     ]
    }
   ],
   "source": [
    "# step2 : 训练第一个弱分类器。g1(x) = 1 如果 x>lambda, g1(x) =-1, 如果x<lambda.\n",
    "# 误差：e\n",
    "min_er = 10 #将初始误差设置为极大。\n",
    "dst_lam = 0.\n",
    "for lam in np.arange(0.,9,0.5):  # range 不能使用float，np.arange可。linespace也可以。\n",
    "    error_rate = 0.\n",
    "    for i in range(len(x)):\n",
    "        if (x[i] >= lam and y[i] ==1) or (x[i] < lam and y[i] == -1) :\n",
    "            error_rate += w[i]\n",
    "    # 记录最小的错误率对应的lam\n",
    "    if error_rate <min_er:\n",
    "        min_er = error_rate\n",
    "        dst_lam = lam\n",
    "\n",
    "print(dst_lam,min_er)\n",
    "        "
   ]
  },
  {
   "cell_type": "code",
   "execution_count": 126,
   "metadata": {},
   "outputs": [
    {
     "name": "stdout",
     "output_type": "stream",
     "text": [
      "2.5 0.30000000000000004\n"
     ]
    }
   ],
   "source": [
    "for lam in np.arange(0.,9,0.5):  # range 不能使用float，np.arange可。linespace也可以。\n",
    "    error_rate = 0.\n",
    "    for i in range(len(x)):\n",
    "        if (x[i] >= lam and y[i] ==-1) or (x[i] < lam and y[i] == 1) :\n",
    "            error_rate += w[i]\n",
    "    # 记录最小的错误率对应的lam\n",
    "    if error_rate <min_er:\n",
    "        min_er = error_rate\n",
    "        dst_lam = lam\n",
    "\n",
    "print(dst_lam,min_er)"
   ]
  },
  {
   "cell_type": "code",
   "execution_count": 127,
   "metadata": {},
   "outputs": [],
   "source": [
    "# G1(X) = 1,x<2, -1,x>2.\n"
   ]
  },
  {
   "cell_type": "code",
   "execution_count": 128,
   "metadata": {},
   "outputs": [],
   "source": [
    "# 计算G1(X) 的系数。\n",
    "alpha1 = 1/2.*np.log((1-min_er)/min_er)\n",
    "# f(x) = G1(x) * alpha1\n",
    "def G1(x):\n",
    "    if x > 2.5:\n",
    "        return -1\n",
    "    else:\n",
    "        return 1"
   ]
  },
  {
   "cell_type": "code",
   "execution_count": 129,
   "metadata": {},
   "outputs": [
    {
     "name": "stdout",
     "output_type": "stream",
     "text": [
      "[0.07142857 0.07142857 0.07142857 0.07142857 0.07142857 0.07142857\n",
      " 0.16666667 0.16666667 0.16666667 0.07142857]\n"
     ]
    }
   ],
   "source": [
    "# 重新设置样本权值分布。\n",
    "for i in range(len(w)):\n",
    "    w[i] = w[i]*np.exp(-alpha1*(G1(x[i])*y[i]))\n",
    "                       \n",
    "w = w/np.sum(w)\n",
    "print(w)"
   ]
  },
  {
   "cell_type": "code",
   "execution_count": 130,
   "metadata": {},
   "outputs": [
    {
     "name": "stdout",
     "output_type": "stream",
     "text": [
      "8.5 0.21428571428571427\n"
     ]
    }
   ],
   "source": [
    "# step3 : 训练第一个弱分类器。g1(x) = 1 如果 x>lambda, g1(x) =-1, 如果x<lambda.\n",
    "# 误差：e\n",
    "min_er = 10 #将初始误差设置为极大。\n",
    "dst_lam = 0.\n",
    "for lam in np.arange(0.,9,0.5):  # range 不能使用float，np.arange可。linespace也可以。\n",
    "    error_rate = 0.\n",
    "    for i in range(len(x)):\n",
    "        if (x[i] >= lam and y[i] ==1) or (x[i] < lam and y[i] == -1) :\n",
    "            error_rate += w[i]\n",
    "    # 记录最小的错误率对应的lam\n",
    "    if error_rate < min_er:\n",
    "        min_er = error_rate\n",
    "        dst_lam = lam\n",
    "\n",
    "print(dst_lam,min_er)\n",
    "        "
   ]
  },
  {
   "cell_type": "code",
   "execution_count": 131,
   "metadata": {},
   "outputs": [],
   "source": [
    "# # 反向测试。\n",
    "# min_er = 10 #将初始误差设置为极大。\n",
    "# dst_lam = 0.\n",
    "# for lam in np.arange(0.,9,0.5):  # range 不能使用float，np.arange可。linespace也可以。\n",
    "#     error_rate = 0.\n",
    "#     for i in range(len(x)):\n",
    "#         if (x[i] >= lam and y[i] ==-1) or (x[i] < lam and y[i] == 1) :\n",
    "#             error_rate += w[i]\n",
    "#     # 记录最小的错误率对应的lam\n",
    "#     if error_rate < min_er:\n",
    "#         min_er = error_rate\n",
    "#         dst_lam = lam\n",
    "\n",
    "# print(dst_lam,min_er)"
   ]
  },
  {
   "cell_type": "code",
   "execution_count": 132,
   "metadata": {},
   "outputs": [],
   "source": [
    "# 取 8.5的 误差率更小 0.21多。"
   ]
  },
  {
   "cell_type": "code",
   "execution_count": 133,
   "metadata": {},
   "outputs": [],
   "source": [
    "# 计算G2(X) 的系数。\n",
    "alpha2 = 1/2.*np.log((1-min_er)/min_er)\n",
    "# f(x) = G1(x) * alpha1\n",
    "def G2(x):\n",
    "    if x > 8.5:\n",
    "        return -1\n",
    "    else:\n",
    "        return 1"
   ]
  },
  {
   "cell_type": "code",
   "execution_count": 134,
   "metadata": {},
   "outputs": [
    {
     "name": "stdout",
     "output_type": "stream",
     "text": [
      "7\n"
     ]
    }
   ],
   "source": [
    "def F2(x):\n",
    "    if G1(x)*alpha1 + G2(x)*alpha2 > 0:\n",
    "        return 1\n",
    "    else:\n",
    "        return -1\n",
    "    \n",
    "\n",
    "# 测试分类错误率。\n",
    "rightnum = 0\n",
    "for i in range(len(x)):\n",
    "    if F2(x[i])==y[i]:\n",
    "        rightnum+=1\n",
    "print(rightnum)  # 正确率为百分之70%"
   ]
  },
  {
   "cell_type": "code",
   "execution_count": 135,
   "metadata": {},
   "outputs": [
    {
     "name": "stdout",
     "output_type": "stream",
     "text": [
      "[0.04545455 0.04545455 0.04545455 0.16666667 0.16666667 0.16666667\n",
      " 0.10606061 0.10606061 0.10606061 0.04545455]\n"
     ]
    }
   ],
   "source": [
    "# 为第四步更新权值。\n",
    "# 重新设置样本权值分布。\n",
    "for i in range(len(w)):\n",
    "    w[i] = w[i]*np.exp(-alpha2*(G2(x[i])*y[i]))\n",
    "                       \n",
    "w = w/np.sum(w)\n",
    "print(w)\n"
   ]
  },
  {
   "cell_type": "code",
   "execution_count": null,
   "metadata": {},
   "outputs": [],
   "source": []
  },
  {
   "cell_type": "code",
   "execution_count": 136,
   "metadata": {},
   "outputs": [
    {
     "name": "stdout",
     "output_type": "stream",
     "text": [
      "2.5 0.3181818181818182\n"
     ]
    }
   ],
   "source": [
    "# step4: 训练第3个弱分类器。\n",
    "# 误差：e\n",
    "min_er = 10 #将初始误差设置为极大。\n",
    "dst_lam = 0.\n",
    "for lam in np.arange(0.,9,0.5):  # range 不能使用float，np.arange可。linespace也可以。\n",
    "    error_rate = 0.\n",
    "    for i in range(len(x)):\n",
    "        if (x[i] >= lam and y[i] ==1) or (x[i] < lam and y[i] == -1) :\n",
    "            error_rate += w[i]\n",
    "    # 记录最小的错误率对应的lam\n",
    "    if error_rate < min_er:\n",
    "        min_er = error_rate\n",
    "        dst_lam = lam\n",
    "\n",
    "print(dst_lam,min_er)\n",
    "\n"
   ]
  },
  {
   "cell_type": "code",
   "execution_count": 137,
   "metadata": {},
   "outputs": [
    {
     "name": "stdout",
     "output_type": "stream",
     "text": [
      "5.5 0.18181818181818185\n"
     ]
    }
   ],
   "source": [
    "min_er = 10 #将初始误差设置为极大。\n",
    "dst_lam = 0.\n",
    "for lam in np.arange(0.,9,0.5):  # range 不能使用float，np.arange可。linespace也可以。\n",
    "    error_rate = 0.\n",
    "    for i in range(len(x)):\n",
    "        if (x[i] >= lam and y[i] ==-1) or (x[i] < lam and y[i] == 1) :\n",
    "            error_rate += w[i]\n",
    "    # 记录最小的错误率对应的lam\n",
    "    if error_rate < min_er:\n",
    "        min_er = error_rate\n",
    "        dst_lam = lam\n",
    "\n",
    "print(dst_lam,min_er)"
   ]
  },
  {
   "cell_type": "code",
   "execution_count": 138,
   "metadata": {},
   "outputs": [],
   "source": [
    "# 5.5 误差更小。"
   ]
  },
  {
   "cell_type": "code",
   "execution_count": 139,
   "metadata": {},
   "outputs": [],
   "source": [
    "# 计算G3(X) 的系数。\n",
    "alpha3 = 1/2.*np.log((1-min_er)/min_er)\n",
    "# f(x) = G1(x) * alpha1\n",
    "def G3(x):\n",
    "    if x < 5.5:\n",
    "        return -1\n",
    "    else:\n",
    "        return 1"
   ]
  },
  {
   "cell_type": "code",
   "execution_count": 140,
   "metadata": {},
   "outputs": [
    {
     "name": "stdout",
     "output_type": "stream",
     "text": [
      "10\n"
     ]
    }
   ],
   "source": [
    "def F3(x):\n",
    "    if G1(x)*alpha1 + G2(x)*alpha2 + G3(x)*alpha3 > 0:\n",
    "        return 1\n",
    "    else:\n",
    "        return -1\n",
    "    \n",
    "\n",
    "# 测试分类错误率。\n",
    "rightnum = 0\n",
    "for i in range(len(x)):\n",
    "    if F3(x[i])==y[i]:\n",
    "        rightnum+=1\n",
    "print(rightnum)  # 正确率为百分之70%"
   ]
  },
  {
   "cell_type": "code",
   "execution_count": null,
   "metadata": {},
   "outputs": [],
   "source": []
  },
  {
   "cell_type": "code",
   "execution_count": null,
   "metadata": {},
   "outputs": [],
   "source": []
  },
  {
   "cell_type": "code",
   "execution_count": null,
   "metadata": {},
   "outputs": [],
   "source": []
  },
  {
   "cell_type": "code",
   "execution_count": null,
   "metadata": {},
   "outputs": [],
   "source": []
  },
  {
   "cell_type": "code",
   "execution_count": null,
   "metadata": {},
   "outputs": [],
   "source": []
  },
  {
   "cell_type": "code",
   "execution_count": null,
   "metadata": {},
   "outputs": [],
   "source": []
  },
  {
   "cell_type": "code",
   "execution_count": null,
   "metadata": {},
   "outputs": [],
   "source": []
  }
 ],
 "metadata": {
  "kernelspec": {
   "display_name": "Python [conda env:pytorch]",
   "language": "python",
   "name": "conda-env-pytorch-py"
  },
  "language_info": {
   "codemirror_mode": {
    "name": "ipython",
    "version": 3
   },
   "file_extension": ".py",
   "mimetype": "text/x-python",
   "name": "python",
   "nbconvert_exporter": "python",
   "pygments_lexer": "ipython3",
   "version": "3.7.6"
  },
  "toc": {
   "base_numbering": 1,
   "nav_menu": {},
   "number_sections": true,
   "sideBar": true,
   "skip_h1_title": false,
   "title_cell": "Table of Contents",
   "title_sidebar": "Contents",
   "toc_cell": false,
   "toc_position": {},
   "toc_section_display": true,
   "toc_window_display": false
  },
  "varInspector": {
   "cols": {
    "lenName": 16,
    "lenType": 16,
    "lenVar": 40
   },
   "kernels_config": {
    "python": {
     "delete_cmd_postfix": "",
     "delete_cmd_prefix": "del ",
     "library": "var_list.py",
     "varRefreshCmd": "print(var_dic_list())"
    },
    "r": {
     "delete_cmd_postfix": ") ",
     "delete_cmd_prefix": "rm(",
     "library": "var_list.r",
     "varRefreshCmd": "cat(var_dic_list()) "
    }
   },
   "types_to_exclude": [
    "module",
    "function",
    "builtin_function_or_method",
    "instance",
    "_Feature"
   ],
   "window_display": false
  }
 },
 "nbformat": 4,
 "nbformat_minor": 4
}
